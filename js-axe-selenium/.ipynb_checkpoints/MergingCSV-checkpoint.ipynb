{
 "cells": [
  {
   "cell_type": "code",
   "execution_count": 27,
   "metadata": {},
   "outputs": [],
   "source": [
    "import pandas as pd\n",
    "import matplotlib.pyplot as plt\n",
    "import pandas as pd\n",
    "from bokeh.plotting import figure, show\n",
    "from bokeh.io import show, output_notebook, output_file\n",
    "# import panel as pn\n",
    "# pn.extension('plotly')"
   ]
  },
  {
   "cell_type": "code",
   "execution_count": 28,
   "metadata": {},
   "outputs": [],
   "source": [
    "data = pd.read_csv('jug.csv')\n",
    "score = pd.read_csv('score.csv')"
   ]
  },
  {
   "cell_type": "code",
   "execution_count": 29,
   "metadata": {},
   "outputs": [
    {
     "data": {
      "text/html": [
       "<div>\n",
       "<style scoped>\n",
       "    .dataframe tbody tr th:only-of-type {\n",
       "        vertical-align: middle;\n",
       "    }\n",
       "\n",
       "    .dataframe tbody tr th {\n",
       "        vertical-align: top;\n",
       "    }\n",
       "\n",
       "    .dataframe thead th {\n",
       "        text-align: right;\n",
       "    }\n",
       "</style>\n",
       "<table border=\"1\" class=\"dataframe\">\n",
       "  <thead>\n",
       "    <tr style=\"text-align: right;\">\n",
       "      <th></th>\n",
       "      <th>URL</th>\n",
       "      <th>Volation Type</th>\n",
       "      <th>Impact</th>\n",
       "      <th>Help</th>\n",
       "      <th>HTML Element</th>\n",
       "      <th>Messages</th>\n",
       "      <th>DOM Element</th>\n",
       "    </tr>\n",
       "  </thead>\n",
       "  <tbody>\n",
       "    <tr>\n",
       "      <td>0</td>\n",
       "      <td>https://www.gov.sg/</td>\n",
       "      <td>color-contrast</td>\n",
       "      <td>serious</td>\n",
       "      <td>https://dequeuniversity.com/rules/axe/2.6/colo...</td>\n",
       "      <td>&lt;span&gt;Education&lt;/span&gt;</td>\n",
       "      <td>Element has insufficient color contrast of 2.0...</td>\n",
       "      <td>html &gt; body &gt; .banner-art.js-banner-art &gt; .ban...</td>\n",
       "    </tr>\n",
       "    <tr>\n",
       "      <td>1</td>\n",
       "      <td>https://www.gov.sg/</td>\n",
       "      <td>color-contrast</td>\n",
       "      <td>serious</td>\n",
       "      <td>https://dequeuniversity.com/rules/axe/2.6/colo...</td>\n",
       "      <td>&lt;span&gt;Housing&lt;/span&gt;</td>\n",
       "      <td>Element has insufficient color contrast of 3.1...</td>\n",
       "      <td>html &gt; body &gt; .banner-art.js-banner-art &gt; .ban...</td>\n",
       "    </tr>\n",
       "    <tr>\n",
       "      <td>2</td>\n",
       "      <td>https://www.gov.sg/</td>\n",
       "      <td>color-contrast</td>\n",
       "      <td>serious</td>\n",
       "      <td>https://dequeuniversity.com/rules/axe/2.6/colo...</td>\n",
       "      <td>&lt;span class=\"button is-radiusless tag tag-prim...</td>\n",
       "      <td>Element has insufficient color contrast of 2.0...</td>\n",
       "      <td>html &gt; body &gt; .section--layout &gt; .container &gt; ...</td>\n",
       "    </tr>\n",
       "    <tr>\n",
       "      <td>3</td>\n",
       "      <td>https://www.gov.sg/</td>\n",
       "      <td>color-contrast</td>\n",
       "      <td>serious</td>\n",
       "      <td>https://dequeuniversity.com/rules/axe/2.6/colo...</td>\n",
       "      <td>&lt;span class=\"button is-radiusless tag tag-prim...</td>\n",
       "      <td>Element has insufficient color contrast of 4.0...</td>\n",
       "      <td>html &gt; body &gt; .section--layout &gt; .container &gt; ...</td>\n",
       "    </tr>\n",
       "    <tr>\n",
       "      <td>4</td>\n",
       "      <td>https://www.gov.sg/</td>\n",
       "      <td>color-contrast</td>\n",
       "      <td>serious</td>\n",
       "      <td>https://dequeuniversity.com/rules/axe/2.6/colo...</td>\n",
       "      <td>&lt;a href=\"~/link.aspx?_id=A9760E2521D942CDA2F6E...</td>\n",
       "      <td>Element has insufficient color contrast of 3.7...</td>\n",
       "      <td>p &gt; a</td>\n",
       "    </tr>\n",
       "    <tr>\n",
       "      <td>...</td>\n",
       "      <td>...</td>\n",
       "      <td>...</td>\n",
       "      <td>...</td>\n",
       "      <td>...</td>\n",
       "      <td>...</td>\n",
       "      <td>...</td>\n",
       "      <td>...</td>\n",
       "    </tr>\n",
       "    <tr>\n",
       "      <td>74</td>\n",
       "      <td>https://www.isomer.gov.sg/documentation/markdo...</td>\n",
       "      <td>fake-rule</td>\n",
       "      <td>serious</td>\n",
       "      <td>There isn't a help url for this!</td>\n",
       "      <td>&lt;a class=\"third-level-nav-header \"&gt;Navbar and ...</td>\n",
       "      <td>Element has no Bok Choy</td>\n",
       "      <td>#main-content &gt; section:nth-child(3) &gt; div &gt; ....</td>\n",
       "    </tr>\n",
       "    <tr>\n",
       "      <td>75</td>\n",
       "      <td>https://www.isomer.gov.sg/documentation/markdo...</td>\n",
       "      <td>fake-rule</td>\n",
       "      <td>serious</td>\n",
       "      <td>There isn't a help url for this!</td>\n",
       "      <td>&lt;a class=\"third-level-nav-header \"&gt;Contact Us&lt;...</td>\n",
       "      <td>Element has no Bok Choy</td>\n",
       "      <td>li:nth-child(10) &gt; a.third-level-nav-header</td>\n",
       "    </tr>\n",
       "    <tr>\n",
       "      <td>76</td>\n",
       "      <td>https://www.isomer.gov.sg/documentation/markdo...</td>\n",
       "      <td>fake-rule</td>\n",
       "      <td>serious</td>\n",
       "      <td>There isn't a help url for this!</td>\n",
       "      <td>&lt;a class=\"third-level-nav-header \"&gt;Inner Page&lt;...</td>\n",
       "      <td>Element has no Bok Choy</td>\n",
       "      <td>li:nth-child(12) &gt; a.third-level-nav-header</td>\n",
       "    </tr>\n",
       "    <tr>\n",
       "      <td>77</td>\n",
       "      <td>https://www.isomer.gov.sg/documentation/markdo...</td>\n",
       "      <td>fake-rule</td>\n",
       "      <td>serious</td>\n",
       "      <td>There isn't a help url for this!</td>\n",
       "      <td>&lt;a class=\"third-level-nav-header \"&gt;Resources&lt;i...</td>\n",
       "      <td>Element has no Bok Choy</td>\n",
       "      <td>li:nth-child(14) &gt; a.third-level-nav-header</td>\n",
       "    </tr>\n",
       "    <tr>\n",
       "      <td>78</td>\n",
       "      <td>https://www.isomer.gov.sg/documentation/markdo...</td>\n",
       "      <td>fake-rule</td>\n",
       "      <td>serious</td>\n",
       "      <td>There isn't a help url for this!</td>\n",
       "      <td>&lt;a class=\"third-level-nav-header \"&gt;Website Col...</td>\n",
       "      <td>Element has no Bok Choy</td>\n",
       "      <td>li:nth-child(16) &gt; a.third-level-nav-header</td>\n",
       "    </tr>\n",
       "  </tbody>\n",
       "</table>\n",
       "<p>79 rows × 7 columns</p>\n",
       "</div>"
      ],
      "text/plain": [
       "                                                  URL   Volation Type  \\\n",
       "0                                 https://www.gov.sg/  color-contrast   \n",
       "1                                 https://www.gov.sg/  color-contrast   \n",
       "2                                 https://www.gov.sg/  color-contrast   \n",
       "3                                 https://www.gov.sg/  color-contrast   \n",
       "4                                 https://www.gov.sg/  color-contrast   \n",
       "..                                                ...             ...   \n",
       "74  https://www.isomer.gov.sg/documentation/markdo...       fake-rule   \n",
       "75  https://www.isomer.gov.sg/documentation/markdo...       fake-rule   \n",
       "76  https://www.isomer.gov.sg/documentation/markdo...       fake-rule   \n",
       "77  https://www.isomer.gov.sg/documentation/markdo...       fake-rule   \n",
       "78  https://www.isomer.gov.sg/documentation/markdo...       fake-rule   \n",
       "\n",
       "     Impact                                               Help  \\\n",
       "0   serious  https://dequeuniversity.com/rules/axe/2.6/colo...   \n",
       "1   serious  https://dequeuniversity.com/rules/axe/2.6/colo...   \n",
       "2   serious  https://dequeuniversity.com/rules/axe/2.6/colo...   \n",
       "3   serious  https://dequeuniversity.com/rules/axe/2.6/colo...   \n",
       "4   serious  https://dequeuniversity.com/rules/axe/2.6/colo...   \n",
       "..      ...                                                ...   \n",
       "74  serious                   There isn't a help url for this!   \n",
       "75  serious                   There isn't a help url for this!   \n",
       "76  serious                   There isn't a help url for this!   \n",
       "77  serious                   There isn't a help url for this!   \n",
       "78  serious                   There isn't a help url for this!   \n",
       "\n",
       "                                         HTML Element  \\\n",
       "0                              <span>Education</span>   \n",
       "1                                <span>Housing</span>   \n",
       "2   <span class=\"button is-radiusless tag tag-prim...   \n",
       "3   <span class=\"button is-radiusless tag tag-prim...   \n",
       "4   <a href=\"~/link.aspx?_id=A9760E2521D942CDA2F6E...   \n",
       "..                                                ...   \n",
       "74  <a class=\"third-level-nav-header \">Navbar and ...   \n",
       "75  <a class=\"third-level-nav-header \">Contact Us<...   \n",
       "76  <a class=\"third-level-nav-header \">Inner Page<...   \n",
       "77  <a class=\"third-level-nav-header \">Resources<i...   \n",
       "78  <a class=\"third-level-nav-header \">Website Col...   \n",
       "\n",
       "                                             Messages  \\\n",
       "0   Element has insufficient color contrast of 2.0...   \n",
       "1   Element has insufficient color contrast of 3.1...   \n",
       "2   Element has insufficient color contrast of 2.0...   \n",
       "3   Element has insufficient color contrast of 4.0...   \n",
       "4   Element has insufficient color contrast of 3.7...   \n",
       "..                                                ...   \n",
       "74                            Element has no Bok Choy   \n",
       "75                            Element has no Bok Choy   \n",
       "76                            Element has no Bok Choy   \n",
       "77                            Element has no Bok Choy   \n",
       "78                            Element has no Bok Choy   \n",
       "\n",
       "                                          DOM Element  \n",
       "0   html > body > .banner-art.js-banner-art > .ban...  \n",
       "1   html > body > .banner-art.js-banner-art > .ban...  \n",
       "2   html > body > .section--layout > .container > ...  \n",
       "3   html > body > .section--layout > .container > ...  \n",
       "4                                               p > a  \n",
       "..                                                ...  \n",
       "74  #main-content > section:nth-child(3) > div > ....  \n",
       "75        li:nth-child(10) > a.third-level-nav-header  \n",
       "76        li:nth-child(12) > a.third-level-nav-header  \n",
       "77        li:nth-child(14) > a.third-level-nav-header  \n",
       "78        li:nth-child(16) > a.third-level-nav-header  \n",
       "\n",
       "[79 rows x 7 columns]"
      ]
     },
     "execution_count": 29,
     "metadata": {},
     "output_type": "execute_result"
    }
   ],
   "source": [
    "data"
   ]
  },
  {
   "cell_type": "code",
   "execution_count": 30,
   "metadata": {},
   "outputs": [
    {
     "data": {
      "text/html": [
       "<div>\n",
       "<style scoped>\n",
       "    .dataframe tbody tr th:only-of-type {\n",
       "        vertical-align: middle;\n",
       "    }\n",
       "\n",
       "    .dataframe tbody tr th {\n",
       "        vertical-align: top;\n",
       "    }\n",
       "\n",
       "    .dataframe thead th {\n",
       "        text-align: right;\n",
       "    }\n",
       "</style>\n",
       "<table border=\"1\" class=\"dataframe\">\n",
       "  <thead>\n",
       "    <tr style=\"text-align: right;\">\n",
       "      <th></th>\n",
       "      <th>Volation Type</th>\n",
       "      <th>Govtech Priority</th>\n",
       "      <th>WCAG Mapping</th>\n",
       "    </tr>\n",
       "  </thead>\n",
       "  <tbody>\n",
       "    <tr>\n",
       "      <td>0</td>\n",
       "      <td>label</td>\n",
       "      <td>20.0</td>\n",
       "      <td>1.1.1 Non-text Content (Level A)</td>\n",
       "    </tr>\n",
       "    <tr>\n",
       "      <td>1</td>\n",
       "      <td>label</td>\n",
       "      <td>20.0</td>\n",
       "      <td>3.3.2 Labels or Instructions (Level A)</td>\n",
       "    </tr>\n",
       "    <tr>\n",
       "      <td>2</td>\n",
       "      <td>link-name</td>\n",
       "      <td>10.0</td>\n",
       "      <td>2.4.4 Link Purpose (In Context) (Level A),\\n4....</td>\n",
       "    </tr>\n",
       "    <tr>\n",
       "      <td>3</td>\n",
       "      <td>href-no-hash</td>\n",
       "      <td>10.0</td>\n",
       "      <td>2.4.4 Link Purpose (In Context) (Level A)</td>\n",
       "    </tr>\n",
       "    <tr>\n",
       "      <td>4</td>\n",
       "      <td>label-content-name-mismatch</td>\n",
       "      <td>10.0</td>\n",
       "      <td>2.5.3 Label in Name (WCAG 2.1 Level A)</td>\n",
       "    </tr>\n",
       "  </tbody>\n",
       "</table>\n",
       "</div>"
      ],
      "text/plain": [
       "                 Volation Type  Govtech Priority  \\\n",
       "0                        label              20.0   \n",
       "1                        label              20.0   \n",
       "2                    link-name              10.0   \n",
       "3                 href-no-hash              10.0   \n",
       "4  label-content-name-mismatch              10.0   \n",
       "\n",
       "                                        WCAG Mapping  \n",
       "0                   1.1.1 Non-text Content (Level A)  \n",
       "1             3.3.2 Labels or Instructions (Level A)  \n",
       "2  2.4.4 Link Purpose (In Context) (Level A),\\n4....  \n",
       "3          2.4.4 Link Purpose (In Context) (Level A)  \n",
       "4             2.5.3 Label in Name (WCAG 2.1 Level A)  "
      ]
     },
     "execution_count": 30,
     "metadata": {},
     "output_type": "execute_result"
    }
   ],
   "source": [
    "score.head()"
   ]
  },
  {
   "cell_type": "code",
   "execution_count": 31,
   "metadata": {},
   "outputs": [],
   "source": [
    "\n",
    "result = pd.merge(data,\n",
    "                  score[['Volation Type','Govtech Priority','WCAG Mapping']],\n",
    "                  on='Volation Type',\n",
    "                  how='left')"
   ]
  },
  {
   "cell_type": "code",
   "execution_count": 32,
   "metadata": {},
   "outputs": [
    {
     "data": {
      "text/html": [
       "<div>\n",
       "<style scoped>\n",
       "    .dataframe tbody tr th:only-of-type {\n",
       "        vertical-align: middle;\n",
       "    }\n",
       "\n",
       "    .dataframe tbody tr th {\n",
       "        vertical-align: top;\n",
       "    }\n",
       "\n",
       "    .dataframe thead th {\n",
       "        text-align: right;\n",
       "    }\n",
       "</style>\n",
       "<table border=\"1\" class=\"dataframe\">\n",
       "  <thead>\n",
       "    <tr style=\"text-align: right;\">\n",
       "      <th></th>\n",
       "      <th>URL</th>\n",
       "      <th>Volation Type</th>\n",
       "      <th>Impact</th>\n",
       "      <th>Help</th>\n",
       "      <th>HTML Element</th>\n",
       "      <th>Messages</th>\n",
       "      <th>DOM Element</th>\n",
       "      <th>Govtech Priority</th>\n",
       "      <th>WCAG Mapping</th>\n",
       "    </tr>\n",
       "  </thead>\n",
       "  <tbody>\n",
       "    <tr>\n",
       "      <td>0</td>\n",
       "      <td>https://www.gov.sg/</td>\n",
       "      <td>color-contrast</td>\n",
       "      <td>serious</td>\n",
       "      <td>https://dequeuniversity.com/rules/axe/2.6/colo...</td>\n",
       "      <td>&lt;span&gt;Education&lt;/span&gt;</td>\n",
       "      <td>Element has insufficient color contrast of 2.0...</td>\n",
       "      <td>html &gt; body &gt; .banner-art.js-banner-art &gt; .ban...</td>\n",
       "      <td>6.0</td>\n",
       "      <td>1.4.3 Contrast (Minimum) (Level AA)</td>\n",
       "    </tr>\n",
       "    <tr>\n",
       "      <td>1</td>\n",
       "      <td>https://www.gov.sg/</td>\n",
       "      <td>color-contrast</td>\n",
       "      <td>serious</td>\n",
       "      <td>https://dequeuniversity.com/rules/axe/2.6/colo...</td>\n",
       "      <td>&lt;span&gt;Housing&lt;/span&gt;</td>\n",
       "      <td>Element has insufficient color contrast of 3.1...</td>\n",
       "      <td>html &gt; body &gt; .banner-art.js-banner-art &gt; .ban...</td>\n",
       "      <td>6.0</td>\n",
       "      <td>1.4.3 Contrast (Minimum) (Level AA)</td>\n",
       "    </tr>\n",
       "    <tr>\n",
       "      <td>2</td>\n",
       "      <td>https://www.gov.sg/</td>\n",
       "      <td>color-contrast</td>\n",
       "      <td>serious</td>\n",
       "      <td>https://dequeuniversity.com/rules/axe/2.6/colo...</td>\n",
       "      <td>&lt;span class=\"button is-radiusless tag tag-prim...</td>\n",
       "      <td>Element has insufficient color contrast of 2.0...</td>\n",
       "      <td>html &gt; body &gt; .section--layout &gt; .container &gt; ...</td>\n",
       "      <td>6.0</td>\n",
       "      <td>1.4.3 Contrast (Minimum) (Level AA)</td>\n",
       "    </tr>\n",
       "    <tr>\n",
       "      <td>3</td>\n",
       "      <td>https://www.gov.sg/</td>\n",
       "      <td>color-contrast</td>\n",
       "      <td>serious</td>\n",
       "      <td>https://dequeuniversity.com/rules/axe/2.6/colo...</td>\n",
       "      <td>&lt;span class=\"button is-radiusless tag tag-prim...</td>\n",
       "      <td>Element has insufficient color contrast of 4.0...</td>\n",
       "      <td>html &gt; body &gt; .section--layout &gt; .container &gt; ...</td>\n",
       "      <td>6.0</td>\n",
       "      <td>1.4.3 Contrast (Minimum) (Level AA)</td>\n",
       "    </tr>\n",
       "    <tr>\n",
       "      <td>4</td>\n",
       "      <td>https://www.gov.sg/</td>\n",
       "      <td>color-contrast</td>\n",
       "      <td>serious</td>\n",
       "      <td>https://dequeuniversity.com/rules/axe/2.6/colo...</td>\n",
       "      <td>&lt;a href=\"~/link.aspx?_id=A9760E2521D942CDA2F6E...</td>\n",
       "      <td>Element has insufficient color contrast of 3.7...</td>\n",
       "      <td>p &gt; a</td>\n",
       "      <td>6.0</td>\n",
       "      <td>1.4.3 Contrast (Minimum) (Level AA)</td>\n",
       "    </tr>\n",
       "  </tbody>\n",
       "</table>\n",
       "</div>"
      ],
      "text/plain": [
       "                   URL   Volation Type   Impact  \\\n",
       "0  https://www.gov.sg/  color-contrast  serious   \n",
       "1  https://www.gov.sg/  color-contrast  serious   \n",
       "2  https://www.gov.sg/  color-contrast  serious   \n",
       "3  https://www.gov.sg/  color-contrast  serious   \n",
       "4  https://www.gov.sg/  color-contrast  serious   \n",
       "\n",
       "                                                Help  \\\n",
       "0  https://dequeuniversity.com/rules/axe/2.6/colo...   \n",
       "1  https://dequeuniversity.com/rules/axe/2.6/colo...   \n",
       "2  https://dequeuniversity.com/rules/axe/2.6/colo...   \n",
       "3  https://dequeuniversity.com/rules/axe/2.6/colo...   \n",
       "4  https://dequeuniversity.com/rules/axe/2.6/colo...   \n",
       "\n",
       "                                        HTML Element  \\\n",
       "0                             <span>Education</span>   \n",
       "1                               <span>Housing</span>   \n",
       "2  <span class=\"button is-radiusless tag tag-prim...   \n",
       "3  <span class=\"button is-radiusless tag tag-prim...   \n",
       "4  <a href=\"~/link.aspx?_id=A9760E2521D942CDA2F6E...   \n",
       "\n",
       "                                            Messages  \\\n",
       "0  Element has insufficient color contrast of 2.0...   \n",
       "1  Element has insufficient color contrast of 3.1...   \n",
       "2  Element has insufficient color contrast of 2.0...   \n",
       "3  Element has insufficient color contrast of 4.0...   \n",
       "4  Element has insufficient color contrast of 3.7...   \n",
       "\n",
       "                                         DOM Element  Govtech Priority  \\\n",
       "0  html > body > .banner-art.js-banner-art > .ban...               6.0   \n",
       "1  html > body > .banner-art.js-banner-art > .ban...               6.0   \n",
       "2  html > body > .section--layout > .container > ...               6.0   \n",
       "3  html > body > .section--layout > .container > ...               6.0   \n",
       "4                                              p > a               6.0   \n",
       "\n",
       "                          WCAG Mapping  \n",
       "0  1.4.3 Contrast (Minimum) (Level AA)  \n",
       "1  1.4.3 Contrast (Minimum) (Level AA)  \n",
       "2  1.4.3 Contrast (Minimum) (Level AA)  \n",
       "3  1.4.3 Contrast (Minimum) (Level AA)  \n",
       "4  1.4.3 Contrast (Minimum) (Level AA)  "
      ]
     },
     "execution_count": 32,
     "metadata": {},
     "output_type": "execute_result"
    }
   ],
   "source": [
    "df = pd.DataFrame(result)\n",
    "df.head()"
   ]
  },
  {
   "cell_type": "code",
   "execution_count": 33,
   "metadata": {},
   "outputs": [],
   "source": [
    "df.to_csv('new.csv')"
   ]
  },
  {
   "cell_type": "code",
   "execution_count": 34,
   "metadata": {},
   "outputs": [],
   "source": [
    "re = df.groupby('URL')[['Impact']].count()"
   ]
  },
  {
   "cell_type": "code",
   "execution_count": 35,
   "metadata": {},
   "outputs": [
    {
     "data": {
      "text/html": [
       "<div>\n",
       "<style scoped>\n",
       "    .dataframe tbody tr th:only-of-type {\n",
       "        vertical-align: middle;\n",
       "    }\n",
       "\n",
       "    .dataframe tbody tr th {\n",
       "        vertical-align: top;\n",
       "    }\n",
       "\n",
       "    .dataframe thead th {\n",
       "        text-align: right;\n",
       "    }\n",
       "</style>\n",
       "<table border=\"1\" class=\"dataframe\">\n",
       "  <thead>\n",
       "    <tr style=\"text-align: right;\">\n",
       "      <th></th>\n",
       "      <th>Impact</th>\n",
       "    </tr>\n",
       "    <tr>\n",
       "      <th>URL</th>\n",
       "      <th></th>\n",
       "    </tr>\n",
       "  </thead>\n",
       "  <tbody>\n",
       "    <tr>\n",
       "      <td>URL</td>\n",
       "      <td>3</td>\n",
       "    </tr>\n",
       "    <tr>\n",
       "      <td>https://www.gov.sg/</td>\n",
       "      <td>25</td>\n",
       "    </tr>\n",
       "    <tr>\n",
       "      <td>https://www.isomer.gov.sg/</td>\n",
       "      <td>9</td>\n",
       "    </tr>\n",
       "    <tr>\n",
       "      <td>https://www.isomer.gov.sg/documentation/markdown/markdown-usage/</td>\n",
       "      <td>24</td>\n",
       "    </tr>\n",
       "    <tr>\n",
       "      <td>https://www.isomer.gov.sg/documentation/training-materials/</td>\n",
       "      <td>18</td>\n",
       "    </tr>\n",
       "  </tbody>\n",
       "</table>\n",
       "</div>"
      ],
      "text/plain": [
       "                                                    Impact\n",
       "URL                                                       \n",
       "URL                                                      3\n",
       "https://www.gov.sg/                                     25\n",
       "https://www.isomer.gov.sg/                               9\n",
       "https://www.isomer.gov.sg/documentation/markdow...      24\n",
       "https://www.isomer.gov.sg/documentation/trainin...      18"
      ]
     },
     "execution_count": 35,
     "metadata": {},
     "output_type": "execute_result"
    }
   ],
   "source": [
    "re.head()"
   ]
  },
  {
   "cell_type": "code",
   "execution_count": 36,
   "metadata": {},
   "outputs": [],
   "source": [
    "p=re.drop(re.index[0])\n"
   ]
  },
  {
   "cell_type": "code",
   "execution_count": 37,
   "metadata": {},
   "outputs": [
    {
     "data": {
      "text/html": [
       "<div>\n",
       "<style scoped>\n",
       "    .dataframe tbody tr th:only-of-type {\n",
       "        vertical-align: middle;\n",
       "    }\n",
       "\n",
       "    .dataframe tbody tr th {\n",
       "        vertical-align: top;\n",
       "    }\n",
       "\n",
       "    .dataframe thead th {\n",
       "        text-align: right;\n",
       "    }\n",
       "</style>\n",
       "<table border=\"1\" class=\"dataframe\">\n",
       "  <thead>\n",
       "    <tr style=\"text-align: right;\">\n",
       "      <th></th>\n",
       "      <th>Impact</th>\n",
       "    </tr>\n",
       "    <tr>\n",
       "      <th>Impact</th>\n",
       "      <th></th>\n",
       "    </tr>\n",
       "  </thead>\n",
       "  <tbody>\n",
       "    <tr>\n",
       "      <td>critical</td>\n",
       "      <td>17</td>\n",
       "    </tr>\n",
       "    <tr>\n",
       "      <td>moderate</td>\n",
       "      <td>6</td>\n",
       "    </tr>\n",
       "    <tr>\n",
       "      <td>serious</td>\n",
       "      <td>53</td>\n",
       "    </tr>\n",
       "  </tbody>\n",
       "</table>\n",
       "</div>"
      ],
      "text/plain": [
       "          Impact\n",
       "Impact          \n",
       "critical      17\n",
       "moderate       6\n",
       "serious       53"
      ]
     },
     "execution_count": 37,
     "metadata": {},
     "output_type": "execute_result"
    }
   ],
   "source": [
    "re2 = df.groupby('Impact')[['Impact']].count()\n",
    "re2.drop(re2.index[0])"
   ]
  },
  {
   "cell_type": "code",
   "execution_count": 38,
   "metadata": {},
   "outputs": [
    {
     "data": {
      "text/html": [
       "<div>\n",
       "<style scoped>\n",
       "    .dataframe tbody tr th:only-of-type {\n",
       "        vertical-align: middle;\n",
       "    }\n",
       "\n",
       "    .dataframe tbody tr th {\n",
       "        vertical-align: top;\n",
       "    }\n",
       "\n",
       "    .dataframe thead th {\n",
       "        text-align: right;\n",
       "    }\n",
       "</style>\n",
       "<table border=\"1\" class=\"dataframe\">\n",
       "  <thead>\n",
       "    <tr style=\"text-align: right;\">\n",
       "      <th></th>\n",
       "      <th>URL</th>\n",
       "    </tr>\n",
       "  </thead>\n",
       "  <tbody>\n",
       "    <tr>\n",
       "      <td>0</td>\n",
       "      <td>https://www.gov.sg/</td>\n",
       "    </tr>\n",
       "    <tr>\n",
       "      <td>26</td>\n",
       "      <td>https://www.isomer.gov.sg/</td>\n",
       "    </tr>\n",
       "    <tr>\n",
       "      <td>36</td>\n",
       "      <td>https://www.isomer.gov.sg/documentation/traini...</td>\n",
       "    </tr>\n",
       "    <tr>\n",
       "      <td>55</td>\n",
       "      <td>https://www.isomer.gov.sg/documentation/markdo...</td>\n",
       "    </tr>\n",
       "  </tbody>\n",
       "</table>\n",
       "</div>"
      ],
      "text/plain": [
       "                                                  URL\n",
       "0                                 https://www.gov.sg/\n",
       "26                         https://www.isomer.gov.sg/\n",
       "36  https://www.isomer.gov.sg/documentation/traini...\n",
       "55  https://www.isomer.gov.sg/documentation/markdo..."
      ]
     },
     "execution_count": 38,
     "metadata": {},
     "output_type": "execute_result"
    }
   ],
   "source": [
    "g=df.iloc[:,0]\n",
    "k=pd.DataFrame(g)\n",
    "l =k.drop_duplicates()\n",
    "h=l[l.URL!='URL']\n",
    "url=h[h.URL!='Failed to inject axe-core into one of the iframes!']\n",
    "url\n",
    "# url = k.drop(k.index[1])\n",
    "\n",
    "\n"
   ]
  },
  {
   "cell_type": "code",
   "execution_count": null,
   "metadata": {},
   "outputs": [],
   "source": []
  },
  {
   "cell_type": "code",
   "execution_count": 39,
   "metadata": {},
   "outputs": [
    {
     "data": {
      "text/plain": [
       "['https://www.gov.sg/',\n",
       " 'https://www.isomer.gov.sg/',\n",
       " 'https://www.isomer.gov.sg/documentation/training-materials/',\n",
       " 'https://www.isomer.gov.sg/documentation/markdown/markdown-usage/']"
      ]
     },
     "execution_count": 39,
     "metadata": {},
     "output_type": "execute_result"
    }
   ],
   "source": [
    "urllist = url[\"URL\"].tolist()\n",
    "urllist"
   ]
  },
  {
   "cell_type": "code",
   "execution_count": 61,
   "metadata": {},
   "outputs": [],
   "source": [
    "criticalno = []\n",
    "seriousno = []\n",
    "moderateno = []\n",
    "minorno = []"
   ]
  },
  {
   "cell_type": "code",
   "execution_count": 62,
   "metadata": {},
   "outputs": [],
   "source": [
    "for i in range(len(urllist)):\n",
    "    url = df[df.URL == urllist[i]]\n",
    "    criticalno.append(len(url[url['Impact'] == 'critical']))\n",
    "    seriousno.append(len(url[url['Impact'] == 'serious']))\n",
    "    moderateno.append(len(url[url['Impact'] == 'moderate']))\n",
    "    minorno.append(len(url[url['Impact'] == 'minor']))"
   ]
  },
  {
   "cell_type": "code",
   "execution_count": 63,
   "metadata": {},
   "outputs": [
    {
     "data": {
      "text/plain": [
       "[0, 7, 5, 5]"
      ]
     },
     "execution_count": 63,
     "metadata": {},
     "output_type": "execute_result"
    }
   ],
   "source": [
    "criticalno"
   ]
  },
  {
   "cell_type": "code",
   "execution_count": 67,
   "metadata": {},
   "outputs": [
    {
     "data": {
      "text/plain": [
       "{'url': ['https://www.gov.sg/',\n",
       "  'https://www.isomer.gov.sg/',\n",
       "  'https://www.isomer.gov.sg/documentation/training-materials/',\n",
       "  'https://www.isomer.gov.sg/documentation/markdown/markdown-usage/'],\n",
       " 'critical': [0, 7, 5, 5],\n",
       " 'serious': [22, 1, 12, 18],\n",
       " 'moderate': [3, 1, 1, 1],\n",
       " 'minor': [0, 0, 0, 0]}"
      ]
     },
     "execution_count": 67,
     "metadata": {},
     "output_type": "execute_result"
    }
   ],
   "source": [
    "dict = {}\n",
    "dict[\"url\"]=urllist\n",
    "dict[\"critical\"]=criticalno\n",
    "dict[\"serious\"]=seriousno\n",
    "dict[\"moderate\"]=moderateno\n",
    "dict[\"minor\"]=minorno\n",
    "dict"
   ]
  },
  {
   "cell_type": "code",
   "execution_count": 43,
   "metadata": {},
   "outputs": [],
   "source": [
    "l=df.iloc[:,2]\n",
    "p=l.drop_duplicates()\n",
    "impct = p.drop(p.index[-1])\n"
   ]
  },
  {
   "cell_type": "code",
   "execution_count": 44,
   "metadata": {},
   "outputs": [
    {
     "data": {
      "text/plain": [
       "serious     22\n",
       "moderate     3\n",
       "Name: Impact, dtype: int64"
      ]
     },
     "execution_count": 44,
     "metadata": {},
     "output_type": "execute_result"
    }
   ],
   "source": [
    "cpf1=df.iloc[0:25,2].value_counts()\n",
    "cpf1\n",
    "# cpf1.drop(cpf1.index[])"
   ]
  },
  {
   "cell_type": "code",
   "execution_count": 45,
   "metadata": {},
   "outputs": [
    {
     "data": {
      "text/plain": [
       "critical    12\n",
       "serious     10\n",
       "moderate     2\n",
       "Impact       1\n",
       "Name: Impact, dtype: int64"
      ]
     },
     "execution_count": 45,
     "metadata": {},
     "output_type": "execute_result"
    }
   ],
   "source": [
    "cpf2=df.iloc[26:51,2].value_counts()\n",
    "cpf2\n",
    "# cpf2.drop(cpf2.index[-1])"
   ]
  },
  {
   "cell_type": "code",
   "execution_count": 46,
   "metadata": {},
   "outputs": [
    {
     "data": {
      "text/plain": [
       "serious     19\n",
       "critical     5\n",
       "moderate     1\n",
       "Impact       1\n",
       "Name: Impact, dtype: int64"
      ]
     },
     "execution_count": 46,
     "metadata": {},
     "output_type": "execute_result"
    }
   ],
   "source": [
    "cpf3=df.iloc[51:77,2].value_counts()\n",
    "cpf3\n",
    "# cpf3.drop(cpf3.index[-1])"
   ]
  },
  {
   "cell_type": "code",
   "execution_count": 47,
   "metadata": {},
   "outputs": [
    {
     "data": {
      "text/plain": [
       "serious    2\n",
       "Name: Impact, dtype: int64"
      ]
     },
     "execution_count": 47,
     "metadata": {},
     "output_type": "execute_result"
    }
   ],
   "source": [
    "cpf4=df.iloc[77:91,2].value_counts()\n",
    "cpf4\n",
    "# cpf4.drop(cpf4.index[1])"
   ]
  },
  {
   "cell_type": "code",
   "execution_count": 48,
   "metadata": {},
   "outputs": [],
   "source": [
    "data = {'urllist': urllist,\n",
    "       'critical':[11,0,11,0],\n",
    "       'serious':[12,21,12,12],\n",
    "       'moderate':[2,3,2,1]}"
   ]
  },
  {
   "cell_type": "code",
   "execution_count": 49,
   "metadata": {},
   "outputs": [],
   "source": [
    "\n",
    "impact = [\"Critical\", \"Serious\", \"Moderate\"]\n",
    "colors = [\"#c9d9d3\", \"#718dbf\", \"#e84d60\"]"
   ]
  },
  {
   "cell_type": "code",
   "execution_count": 50,
   "metadata": {},
   "outputs": [],
   "source": [
    "p = figure(x_range=urllist, plot_height=250, title=\"Violation Count\",\n",
    "           toolbar_location=None, tools=\"\")\n",
    "p.vbar_stack(impact, x='urllist', width=0.9, color=colors, source=data,\n",
    "             legend_label=impact)\n",
    "\n",
    "p.y_range.start = 0\n",
    "p.x_range.range_padding = 0.1\n",
    "p.xgrid.grid_line_color = None\n",
    "p.axis.minor_tick_line_color = None\n",
    "p.outline_line_color = None\n",
    "p.legend.location = \"top_left\"\n",
    "p.legend.orientation = \"horizontal\"\n",
    "p.xaxis.axis_label_text_font_size = \"1pt\"\n",
    "p.yaxis.axis_label_text_font_size = \"20pt\""
   ]
  },
  {
   "cell_type": "code",
   "execution_count": null,
   "metadata": {},
   "outputs": [],
   "source": []
  },
  {
   "cell_type": "code",
   "execution_count": 51,
   "metadata": {},
   "outputs": [
    {
     "name": "stdout",
     "output_type": "stream",
     "text": [
      "['https://www.gov.sg/', 'https://www.isomer.gov.sg/', 'https://www.isomer.gov.sg/documentation/training-materials/', 'https://www.isomer.gov.sg/documentation/markdown/markdown-usage/']\n"
     ]
    }
   ],
   "source": [
    "import pandas as pd\n",
    "from bokeh.plotting import figure, show\n",
    "from bokeh.io import show, output_notebook, output_file\n",
    "\n",
    "\n",
    "data = pd.read_csv('jug.csv')\n",
    "score = pd.read_csv('score.csv')\n",
    "\n",
    "\n",
    "result = pd.merge(data,\n",
    "                  score[['Volation Type','Govtech Priority','WCAG Mapping']],\n",
    "                  on='Volation Type',\n",
    "                  how='left')\n",
    "df = pd.DataFrame(result)\n",
    "df.to_csv('new.csv')\n",
    "\n",
    "g=df.iloc[:,0]\n",
    "k=pd.DataFrame(g)\n",
    "l =k.drop_duplicates()\n",
    "h=l[l.URL!='URL']\n",
    "url = h[h.URL!='Failed to inject axe-core into one of the iframes!']\n",
    "urls = url[\"URL\"].tolist()\n",
    "print(urls)\n",
    "\n",
    "impact = [\"Critical\", \"Serious\", \"Moderate\"]\n",
    "\n",
    "data = {'urls': urls,\n",
    "       'Critical':[11,0,11,0],\n",
    "       'Serious':[12,21,12,12],\n",
    "       'Moderate':[2,3,2,1]}\n",
    "\n",
    "colors = [\"#c9d9d3\", \"#718dbf\", \"#e84d60\"]\n",
    "\n",
    "output_file('output_file_test.html',\n",
    "            title='Report Summary Visualisation')\n",
    "\n",
    "p = figure(x_range=urls, plot_height=250, title=\"Violation Count\",\n",
    "           toolbar_location=None, tools=\"\")\n",
    "p.vbar_stack(impact, x='urls', width=0.9, color=colors, source=data)\n",
    "\n",
    "\n",
    "p.y_range.start = 0\n",
    "p.x_range.range_padding = 0.1\n",
    "p.xaxis.axis_label_text_font_size = '100pt'\n",
    "p.xgrid.grid_line_color = None\n",
    "p.axis.minor_tick_line_color = None\n",
    "p.outline_line_color = None\n",
    "p.legend.location = \"top_left\"\n",
    "p.legend.orientation = \"horizontal\"\n",
    "\n",
    "# See what it looks like\n",
    "show(p)\n"
   ]
  },
  {
   "cell_type": "code",
   "execution_count": 53,
   "metadata": {},
   "outputs": [],
   "source": [
    "# combine = pn.Column(p,p)"
   ]
  },
  {
   "cell_type": "code",
   "execution_count": null,
   "metadata": {},
   "outputs": [],
   "source": []
  },
  {
   "cell_type": "code",
   "execution_count": null,
   "metadata": {},
   "outputs": [],
   "source": []
  }
 ],
 "metadata": {
  "kernelspec": {
   "display_name": "Python 3",
   "language": "python",
   "name": "python3"
  }
 },
 "nbformat": 4,
 "nbformat_minor": 2
}
